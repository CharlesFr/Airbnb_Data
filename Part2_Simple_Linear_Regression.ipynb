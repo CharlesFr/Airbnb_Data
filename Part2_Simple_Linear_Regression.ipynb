{
 "cells": [
  {
   "cell_type": "markdown",
   "metadata": {},
   "source": [
    "# Simple Linear Regression"
   ]
  },
  {
   "cell_type": "code",
   "execution_count": 412,
   "metadata": {},
   "outputs": [],
   "source": [
    "import pandas as pd\n",
    "import matplotlib.pyplot as plt\n",
    "%matplotlib inline\n",
    "import numpy as np\n",
    "import os\n",
    "from ExtraFunctions import DataFrameSelector, CategoricalEncoder\n",
    "data = pd.read_csv(\"data/airbnb/listings-2017.csv\")\n",
    "num_features = ['amenities', 'bedrooms', 'number_of_reviews', 'review_scores_rating', 'accommodates', 'cleaning_fee', 'guests_included', 'beds', 'bathrooms', 'price']\n",
    "cat_features = [ 'neighbourhood_cleansed', 'room_type', 'bed_type', 'property_type']\n",
    "\n",
    "# Where to save the figures\n",
    "PROJECT_ROOT_DIR = \".\"\n",
    "\n",
    "def save_fig(fig_id, tight_layout=True):\n",
    "    path = os.path.join(PROJECT_ROOT_DIR, \"images\", fig_id + \".png\")\n",
    "    print(\"Saving figure\", fig_id)\n",
    "    if tight_layout:\n",
    "        plt.tight_layout()\n",
    "    plt.savefig(path, format='png', dpi=300)"
   ]
  },
  {
   "cell_type": "markdown",
   "metadata": {},
   "source": [
    "### We clean the data and remove any obvious outliers"
   ]
  },
  {
   "cell_type": "code",
   "execution_count": 413,
   "metadata": {},
   "outputs": [],
   "source": [
    "df = data[num_features].copy()\n",
    "\n",
    "df = df[data.price != 0]\n",
    "df.fillna('0', inplace=True)\n",
    "\n",
    "# We delete any listing that doesn't have at least one bed\n",
    "df = df[df.beds != 0]\n",
    "df['cleaning_fee']  = df['cleaning_fee'].str.replace('$', '').astype(float)\n",
    "df = pd.concat([df, data[cat_features]], axis=1)\n",
    "\n",
    "labels = np.asarray([float(p.replace('$', '').replace(',', '')) for p in df.price.values])\n",
    "\n",
    "df['quality'] = (df.amenities.str.count(',') + 1).astype(float) * ((df['number_of_reviews']).astype(float) + 1) *  ((df['review_scores_rating']).astype(float) + 1)   \n",
    "\n",
    "# we remove amenities and price which we don't need anymore\n",
    "num_features.remove('amenities')\n",
    "num_features.remove('price')\n",
    "\n",
    "# we add the newly created quality feature\n",
    "num_features.append('quality')"
   ]
  },
  {
   "cell_type": "markdown",
   "metadata": {},
   "source": [
    "### We create the d pre-processing pipeline and pass our data through it"
   ]
  },
  {
   "cell_type": "code",
   "execution_count": 414,
   "metadata": {},
   "outputs": [],
   "source": [
    "from sklearn.pipeline import Pipeline\n",
    "from sklearn.preprocessing import StandardScaler, Imputer, PolynomialFeatures\n",
    "\n",
    "\n",
    "num_pipeline = Pipeline([\n",
    "    ('selector', DataFrameSelector(num_features)),\n",
    "    ('imputer', Imputer(strategy='median')),\n",
    "    ('std_scaler', StandardScaler())\n",
    "])\n",
    "\n",
    "cat_pipeline = Pipeline([\n",
    "    ('selector', DataFrameSelector(cat_features)),\n",
    "    ('cat_encoder', CategoricalEncoder())\n",
    "])\n",
    "\n",
    "# now we can define the full pipeline\n",
    "\n",
    "from sklearn.pipeline import FeatureUnion\n",
    "\n",
    "full_pipeline = FeatureUnion(transformer_list=[\n",
    "        (\"num_pipeline\", num_pipeline),\n",
    "        (\"cat_pipeline\", cat_pipeline),\n",
    "    ])\n",
    "data_prepared = full_pipeline.fit_transform(df)"
   ]
  },
  {
   "cell_type": "markdown",
   "metadata": {},
   "source": [
    "### We split the data to obtain the training & test test whilist keeping count of indices for later use "
   ]
  },
  {
   "cell_type": "code",
   "execution_count": 415,
   "metadata": {},
   "outputs": [],
   "source": [
    "from sklearn.model_selection import train_test_split\n",
    "\n",
    "indices = np.arange(data_prepared.shape[0])\n",
    "\n",
    "X_train, X_test, y_train, y_test, idx1, idx2 = train_test_split(data_prepared, labels, indices, test_size=0.2, random_state=42)"
   ]
  },
  {
   "cell_type": "markdown",
   "metadata": {},
   "source": [
    "### We run Linear regression and take some metrics"
   ]
  },
  {
   "cell_type": "code",
   "execution_count": 416,
   "metadata": {},
   "outputs": [],
   "source": [
    "from sklearn import linear_model\n",
    "from sklearn import metrics\n",
    "\n",
    "lin = linear_model.LinearRegression()\n",
    "\n",
    "train_errors, test_errors = 0, 0\n",
    "\n",
    "lin.fit(X_train, y_train)\n",
    "y_train_predict = lin.predict(X_train)\n",
    "y_test_predict = lin.predict(X_test)\n",
    "train_error = metrics.median_absolute_error(y_train_predict, y_train)\n",
    "test_error = metrics.median_absolute_error(y_test_predict, y_test)\n",
    "score = lin.score(X_test, y_test)"
   ]
  },
  {
   "cell_type": "code",
   "execution_count": 417,
   "metadata": {
    "scrolled": true
   },
   "outputs": [
    {
     "data": {
      "text/plain": [
       "(24.34398877086015, 23.611750022904914)"
      ]
     },
     "execution_count": 417,
     "metadata": {},
     "output_type": "execute_result"
    }
   ],
   "source": [
    "train_error, test_error"
   ]
  },
  {
   "cell_type": "markdown",
   "metadata": {},
   "source": [
    "### Plotting Residuals"
   ]
  },
  {
   "cell_type": "code",
   "execution_count": 418,
   "metadata": {},
   "outputs": [
    {
     "name": "stdout",
     "output_type": "stream",
     "text": [
      "Saving figure residual_plot\n"
     ]
    },
    {
     "data": {
      "image/png": "[encoded data removed]",
      "text/plain": [
       "<matplotlib.figure.Figure at 0x2a502309c50>"
      ]
     },
     "metadata": {},
     "output_type": "display_data"
    }
   ],
   "source": [
    "plt.figure(figsize=(14, 8))\n",
    "plt.scatter(y_train_predict, y_train_predict - y_train, c='b', s=10, alpha=0.5, label='Training')\n",
    "plt.scatter(y_test_predict, y_test_predict - y_test, c = 'g', s=10, label='Testing')\n",
    "plt.hlines(y=0, xmin=0, xmax=700)\n",
    "#plt.ylim([-1000, 500])\n",
    "plt.ylabel(\"Residuals\")\n",
    "plt.title('Residual plot')\n",
    "plt.legend()\n",
    "#save_fig(\"residual_plot\")"
   ]
  },
  {
   "cell_type": "markdown",
   "metadata": {},
   "source": [
    "### How well is our data being classified?"
   ]
  },
  {
   "cell_type": "code",
   "execution_count": 419,
   "metadata": {},
   "outputs": [
    {
     "name": "stdout",
     "output_type": "stream",
     "text": [
      "70.86% of test are within 40€\n"
     ]
    }
   ],
   "source": [
    "bracket = 40\n",
    "within_30 = (len(y_test[abs(y_test_predict - y_test) < bracket]) / len(y_test)) * 100\n",
    "print('{:0.2f}% of test are within {}€'.format(within_30, bracket))"
   ]
  },
  {
   "cell_type": "markdown",
   "metadata": {},
   "source": [
    "### Let's analyse the largest mistakes"
   ]
  },
  {
   "cell_type": "code",
   "execution_count": 420,
   "metadata": {},
   "outputs": [
    {
     "data": {
      "text/html": [
       "<div>\n",
       "<style>\n",
       "    .dataframe thead tr:only-child th {\n",
       "        text-align: right;\n",
       "    }\n",
       "\n",
       "    .dataframe thead th {\n",
       "        text-align: left;\n",
       "    }\n",
       "\n",
       "    .dataframe tbody tr th {\n",
       "        vertical-align: top;\n",
       "    }\n",
       "</style>\n",
       "<table border=\"1\" class=\"dataframe\">\n",
       "  <thead>\n",
       "    <tr style=\"text-align: right;\">\n",
       "      <th></th>\n",
       "      <th>amenities</th>\n",
       "      <th>bedrooms</th>\n",
       "      <th>number_of_reviews</th>\n",
       "      <th>review_scores_rating</th>\n",
       "      <th>accommodates</th>\n",
       "      <th>cleaning_fee</th>\n",
       "      <th>guests_included</th>\n",
       "      <th>beds</th>\n",
       "      <th>bathrooms</th>\n",
       "      <th>price</th>\n",
       "      <th>neighbourhood_cleansed</th>\n",
       "      <th>room_type</th>\n",
       "      <th>bed_type</th>\n",
       "      <th>property_type</th>\n",
       "      <th>quality</th>\n",
       "      <th>mistakes</th>\n",
       "    </tr>\n",
       "  </thead>\n",
       "  <tbody>\n",
       "    <tr>\n",
       "      <th>14564</th>\n",
       "      <td>{\"Wireless Internet\",Kitchen,\"Smoking allowed\"...</td>\n",
       "      <td>2</td>\n",
       "      <td>0</td>\n",
       "      <td>0</td>\n",
       "      <td>2</td>\n",
       "      <td>0.0</td>\n",
       "      <td>1</td>\n",
       "      <td>1</td>\n",
       "      <td>1</td>\n",
       "      <td>$1,500.00</td>\n",
       "      <td>Geuzenveld - Slotermeer</td>\n",
       "      <td>Entire home/apt</td>\n",
       "      <td>Real Bed</td>\n",
       "      <td>House</td>\n",
       "      <td>12.0</td>\n",
       "      <td>$-1,381.81</td>\n",
       "    </tr>\n",
       "    <tr>\n",
       "      <th>1537</th>\n",
       "      <td>{TV,\"Wireless Internet\",Kitchen,Heating,\"Famil...</td>\n",
       "      <td>7</td>\n",
       "      <td>1</td>\n",
       "      <td>100</td>\n",
       "      <td>16</td>\n",
       "      <td>90.0</td>\n",
       "      <td>1</td>\n",
       "      <td>16</td>\n",
       "      <td>3.5</td>\n",
       "      <td>$1,600.00</td>\n",
       "      <td>Centrum-West</td>\n",
       "      <td>Entire home/apt</td>\n",
       "      <td>Real Bed</td>\n",
       "      <td>Apartment</td>\n",
       "      <td>3838.0</td>\n",
       "      <td>$-1,007.44</td>\n",
       "    </tr>\n",
       "    <tr>\n",
       "      <th>4183</th>\n",
       "      <td>{\"Wireless Internet\",\"Pets allowed\",Breakfast,...</td>\n",
       "      <td>1</td>\n",
       "      <td>0</td>\n",
       "      <td>0</td>\n",
       "      <td>16</td>\n",
       "      <td>0.0</td>\n",
       "      <td>1</td>\n",
       "      <td>6</td>\n",
       "      <td>1</td>\n",
       "      <td>$3,142.00</td>\n",
       "      <td>Centrum-Oost</td>\n",
       "      <td>Entire home/apt</td>\n",
       "      <td>Real Bed</td>\n",
       "      <td>Bed &amp; Breakfast</td>\n",
       "      <td>7.0</td>\n",
       "      <td>$-2,704.36</td>\n",
       "    </tr>\n",
       "    <tr>\n",
       "      <th>10724</th>\n",
       "      <td>{TV,\"Cable TV\",Internet,\"Wireless Internet\",Ki...</td>\n",
       "      <td>2</td>\n",
       "      <td>0</td>\n",
       "      <td>0</td>\n",
       "      <td>4</td>\n",
       "      <td>70.0</td>\n",
       "      <td>4</td>\n",
       "      <td>2</td>\n",
       "      <td>1.5</td>\n",
       "      <td>$1,500.00</td>\n",
       "      <td>Zuid</td>\n",
       "      <td>Entire home/apt</td>\n",
       "      <td>Real Bed</td>\n",
       "      <td>Apartment</td>\n",
       "      <td>16.0</td>\n",
       "      <td>$-1,291.89</td>\n",
       "    </tr>\n",
       "    <tr>\n",
       "      <th>2632</th>\n",
       "      <td>{TV,\"Wireless Internet\",Kitchen,Heating,Washer...</td>\n",
       "      <td>1</td>\n",
       "      <td>1</td>\n",
       "      <td>100</td>\n",
       "      <td>4</td>\n",
       "      <td>0.0</td>\n",
       "      <td>1</td>\n",
       "      <td>3</td>\n",
       "      <td>1.5</td>\n",
       "      <td>$2,100.00</td>\n",
       "      <td>Centrum-West</td>\n",
       "      <td>Entire home/apt</td>\n",
       "      <td>Real Bed</td>\n",
       "      <td>Other</td>\n",
       "      <td>2828.0</td>\n",
       "      <td>$-1,843.41</td>\n",
       "    </tr>\n",
       "    <tr>\n",
       "      <th>770</th>\n",
       "      <td>{TV,Internet,\"Wireless Internet\",\"Air conditio...</td>\n",
       "      <td>3</td>\n",
       "      <td>2</td>\n",
       "      <td>100</td>\n",
       "      <td>6</td>\n",
       "      <td>0.0</td>\n",
       "      <td>1</td>\n",
       "      <td>3</td>\n",
       "      <td>3</td>\n",
       "      <td>$1,305.00</td>\n",
       "      <td>Oud-Noord</td>\n",
       "      <td>Entire home/apt</td>\n",
       "      <td>Real Bed</td>\n",
       "      <td>Other</td>\n",
       "      <td>4545.0</td>\n",
       "      <td>$-1,019.34</td>\n",
       "    </tr>\n",
       "  </tbody>\n",
       "</table>\n",
       "</div>"
      ],
      "text/plain": [
       "                                               amenities bedrooms  \\\n",
       "14564  {\"Wireless Internet\",Kitchen,\"Smoking allowed\"...        2   \n",
       "1537   {TV,\"Wireless Internet\",Kitchen,Heating,\"Famil...        7   \n",
       "4183   {\"Wireless Internet\",\"Pets allowed\",Breakfast,...        1   \n",
       "10724  {TV,\"Cable TV\",Internet,\"Wireless Internet\",Ki...        2   \n",
       "2632   {TV,\"Wireless Internet\",Kitchen,Heating,Washer...        1   \n",
       "770    {TV,Internet,\"Wireless Internet\",\"Air conditio...        3   \n",
       "\n",
       "       number_of_reviews review_scores_rating  accommodates  cleaning_fee  \\\n",
       "14564                  0                    0             2           0.0   \n",
       "1537                   1                  100            16          90.0   \n",
       "4183                   0                    0            16           0.0   \n",
       "10724                  0                    0             4          70.0   \n",
       "2632                   1                  100             4           0.0   \n",
       "770                    2                  100             6           0.0   \n",
       "\n",
       "       guests_included beds bathrooms      price   neighbourhood_cleansed  \\\n",
       "14564                1    1         1  $1,500.00  Geuzenveld - Slotermeer   \n",
       "1537                 1   16       3.5  $1,600.00             Centrum-West   \n",
       "4183                 1    6         1  $3,142.00             Centrum-Oost   \n",
       "10724                4    2       1.5  $1,500.00                     Zuid   \n",
       "2632                 1    3       1.5  $2,100.00             Centrum-West   \n",
       "770                  1    3         3  $1,305.00                Oud-Noord   \n",
       "\n",
       "             room_type  bed_type    property_type  quality    mistakes  \n",
       "14564  Entire home/apt  Real Bed            House     12.0  $-1,381.81  \n",
       "1537   Entire home/apt  Real Bed        Apartment   3838.0  $-1,007.44  \n",
       "4183   Entire home/apt  Real Bed  Bed & Breakfast      7.0  $-2,704.36  \n",
       "10724  Entire home/apt  Real Bed        Apartment     16.0  $-1,291.89  \n",
       "2632   Entire home/apt  Real Bed            Other   2828.0  $-1,843.41  \n",
       "770    Entire home/apt  Real Bed            Other   4545.0  $-1,019.34  "
      ]
     },
     "execution_count": 420,
     "metadata": {},
     "output_type": "execute_result"
    }
   ],
   "source": [
    "min_index = (y_train_predict - y_train) < -1000\n",
    "min_index = np.where(min_index)[0]\n",
    "df_index = idx1[min_index]\n",
    "mistakes_df = df.iloc[df_index].copy()\n",
    "mistakes_df['mistakes'] = (y_train_predict - y_train)[min_index]\n",
    "mistakes_df['mistakes'] = mistakes_df['mistakes'].map('${:0,.2f}'.format)\n",
    "mistakes_df"
   ]
  },
  {
   "cell_type": "code",
   "execution_count": null,
   "metadata": {
    "collapsed": true
   },
   "outputs": [],
   "source": []
  }
 ],
 "metadata": {
  "kernelspec": {
   "display_name": "Python 3",
   "language": "python",
   "name": "python3"
  },
  "language_info": {
   "codemirror_mode": {
    "name": "ipython",
    "version": 3
   },
   "file_extension": ".py",
   "mimetype": "text/x-python",
   "name": "python",
   "nbconvert_exporter": "python",
   "pygments_lexer": "ipython3",
   "version": "3.5.4"
  }
 },
 "nbformat": 4,
 "nbformat_minor": 2
}
